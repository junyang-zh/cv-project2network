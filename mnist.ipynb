{
 "cells": [
  {
   "cell_type": "code",
   "execution_count": 1,
   "metadata": {},
   "outputs": [
    {
     "name": "stdout",
     "output_type": "stream",
     "text": [
      "Downloading http://yann.lecun.com/exdb/mnist/train-images-idx3-ubyte.gz\n",
      "Downloading http://yann.lecun.com/exdb/mnist/train-images-idx3-ubyte.gz to ./data/MNIST/raw/train-images-idx3-ubyte.gz\n"
     ]
    },
    {
     "data": {
      "application/vnd.jupyter.widget-view+json": {
       "model_id": "b8ea966304c74147b8aeee5355cc59de",
       "version_major": 2,
       "version_minor": 0
      },
      "text/plain": [
       "  0%|          | 0/9912422 [00:00<?, ?it/s]"
      ]
     },
     "metadata": {},
     "output_type": "display_data"
    },
    {
     "name": "stdout",
     "output_type": "stream",
     "text": [
      "Extracting ./data/MNIST/raw/train-images-idx3-ubyte.gz to ./data/MNIST/raw\n",
      "\n",
      "Downloading http://yann.lecun.com/exdb/mnist/train-labels-idx1-ubyte.gz\n",
      "Downloading http://yann.lecun.com/exdb/mnist/train-labels-idx1-ubyte.gz to ./data/MNIST/raw/train-labels-idx1-ubyte.gz\n"
     ]
    },
    {
     "data": {
      "application/vnd.jupyter.widget-view+json": {
       "model_id": "e762254b9ecb42bda4b6c2040c3f3c48",
       "version_major": 2,
       "version_minor": 0
      },
      "text/plain": [
       "  0%|          | 0/28881 [00:00<?, ?it/s]"
      ]
     },
     "metadata": {},
     "output_type": "display_data"
    },
    {
     "name": "stdout",
     "output_type": "stream",
     "text": [
      "Extracting ./data/MNIST/raw/train-labels-idx1-ubyte.gz to ./data/MNIST/raw\n",
      "\n",
      "Downloading http://yann.lecun.com/exdb/mnist/t10k-images-idx3-ubyte.gz\n",
      "Downloading http://yann.lecun.com/exdb/mnist/t10k-images-idx3-ubyte.gz to ./data/MNIST/raw/t10k-images-idx3-ubyte.gz\n"
     ]
    },
    {
     "data": {
      "application/vnd.jupyter.widget-view+json": {
       "model_id": "15b5c8c194ba4c489d1fa057751445a7",
       "version_major": 2,
       "version_minor": 0
      },
      "text/plain": [
       "  0%|          | 0/1648877 [00:00<?, ?it/s]"
      ]
     },
     "metadata": {},
     "output_type": "display_data"
    },
    {
     "name": "stdout",
     "output_type": "stream",
     "text": [
      "Extracting ./data/MNIST/raw/t10k-images-idx3-ubyte.gz to ./data/MNIST/raw\n",
      "\n",
      "Downloading http://yann.lecun.com/exdb/mnist/t10k-labels-idx1-ubyte.gz\n",
      "Downloading http://yann.lecun.com/exdb/mnist/t10k-labels-idx1-ubyte.gz to ./data/MNIST/raw/t10k-labels-idx1-ubyte.gz\n"
     ]
    },
    {
     "data": {
      "application/vnd.jupyter.widget-view+json": {
       "model_id": "b108767677ae46f780c166a78208fc25",
       "version_major": 2,
       "version_minor": 0
      },
      "text/plain": [
       "  0%|          | 0/4542 [00:00<?, ?it/s]"
      ]
     },
     "metadata": {},
     "output_type": "display_data"
    },
    {
     "name": "stdout",
     "output_type": "stream",
     "text": [
      "Extracting ./data/MNIST/raw/t10k-labels-idx1-ubyte.gz to ./data/MNIST/raw\n",
      "\n"
     ]
    }
   ],
   "source": [
    "# Preprocess and download datasets\n",
    "\n",
    "# Variables\n",
    "DATASET_PATH = './data/'\n",
    "RESULT_PATH = './result_full2/'\n",
    "\n",
    "EPOCHS = 15\n",
    "\n",
    "# Import the necessary libraries\n",
    "import numpy as np\n",
    "import torch\n",
    "import matplotlib.pyplot as plt\n",
    "import json\n",
    "import time\n",
    "import tqdm\n",
    "\n",
    "# Loading the MNIST dataset\n",
    "from torchvision import datasets, transforms\n",
    "\n",
    "# Define a transform to normalize the data\n",
    "transform = transforms.Compose([transforms.ToTensor(),\n",
    "                                transforms.Resize((224, 224)),\n",
    "                                transforms.Normalize((0.5), (0.5))\n",
    "                               ])\n",
    "\n",
    "# Download and load the training data\n",
    "trainset = datasets.MNIST(DATASET_PATH, download = True, train = True, transform = transform)\n",
    "testset = datasets.MNIST(DATASET_PATH, download = True, train = False, transform = transform)\n",
    "trainloader = torch.utils.data.DataLoader(trainset, batch_size = 16, shuffle = True)\n",
    "testloader = torch.utils.data.DataLoader(testset, batch_size = 16, shuffle = True)"
   ]
  },
  {
   "cell_type": "code",
   "execution_count": null,
   "metadata": {},
   "outputs": [],
   "source": [
    "# Training and evaluating process\n",
    "\n",
    "# Initiate the timer to instrument the performance\n",
    "timer_start = time.process_time_ns()\n",
    "epoch_times = [timer_start]\n",
    "\n",
    "train_losses, test_losses, accuracies = [], [], []\n",
    "\n",
    "for e in range(EPOCHS):\n",
    "    running_loss = 0\n",
    "    print(\"Epoch: {:03d}/{:03d}..\".format(e+1, EPOCHS))\n",
    "    # Training pass\n",
    "    print(\"Training pass:\")\n",
    "    for data in tqdm(trainloader, total=len(trainloader)):\n",
    "        images, labels = data\n",
    "        \n",
    "        output = model.forward(images)\n",
    "        loss = criterion(output, labels).to(device)\n",
    "        loss.backward()\n",
    "        optimizer.step()\n",
    "        \n",
    "        running_loss += loss.item()\n",
    "    # Testing pass\n",
    "    print(\"Validation pass:\")\n",
    "    test_loss = 0\n",
    "    accuracy = 0\n",
    "    # Turn off gradients for validation, saves memory and computation\n",
    "    with torch.no_grad():\n",
    "        # Set the model to evaluation mode\n",
    "        model.eval()\n",
    "        \n",
    "        # Validation pass\n",
    "        for data in tqdm(testloader, total=len(testloader)):\n",
    "          images, labels = data\n",
    "          images = images.to(device)\n",
    "          labels = labels.to(device)\n",
    "          labels_one_hot = to_one_hot(labels, device)\n",
    "          log_ps = model(images).to(device)\n",
    "          test_loss += criterion(log_ps, labels_one_hot)\n",
    "          \n",
    "          ps = torch.exp(log_ps).to(device)\n",
    "          top_p, top_class = ps.topk(1, dim = 1)\n",
    "          equals = (top_class == labels.view(*top_class.shape))\n",
    "          accuracy += torch.mean(equals.type(torch.FloatTensor))\n",
    "  \n",
    "    model.train()\n",
    "    train_losses.append(running_loss/len(trainloader))\n",
    "    test_losses.append(float(test_loss.cpu())/len(testloader))\n",
    "    accuracies.append(float(accuracy)/len(testloader))\n",
    "    \n",
    "    epoch_times.append(time.process_time_ns())\n",
    "    print(\"Training loss: {:.3f}..\".format(running_loss/len(trainloader)),\n",
    "          \"Test loss: {:.3f}..\".format(test_loss/len(testloader)),\n",
    "          \"Test Accuracy: {:.3f}\".format(accuracy/len(testloader)),\n",
    "          \"Cur time(ns): {}\".format(epoch_times[-1]))\n",
    "\n",
    "fig, ax = plt.subplots(figsize=(10, 8))\n",
    "ax.plot(train_losses, label=\"Training loss\")\n",
    "ax.plot(test_losses, label=\"Validation loss\")\n",
    "ax.set_xlabel(\"Epoch\")\n",
    "ax.set_ylabel(\"Cross Entropy Loss\")\n",
    "ax.legend()\n",
    "ax2 = ax.twinx()\n",
    "ax2.plot(np.array(accuracies)*100, label=\"Accuracy\", color='g')\n",
    "ax2.set_ylabel(\"Accuracy (%)\")\n",
    "plt.title(plt_title)\n",
    "plt.savefig(RESULT_PATH + 'training_proc.png', dpi = 100)\n",
    "\n",
    "with open(RESULT_PATH + 'torch_results.json', 'w+') as f:\n",
    "    json.dump({\n",
    "        'train_losses': train_losses,\n",
    "        'test_losses': test_losses,\n",
    "        'epoch_times': epoch_times,\n",
    "        'accuracies': accuracies,\n",
    "      }, f)"
   ]
  }
 ],
 "metadata": {
  "interpreter": {
   "hash": "4f78116559fe3a7ec64c376b0dd016d41397fccf92ad4ec1d9222438f05fc499"
  },
  "kernelspec": {
   "display_name": "Python 3.9.11 ('torch')",
   "language": "python",
   "name": "python3"
  },
  "language_info": {
   "codemirror_mode": {
    "name": "ipython",
    "version": 3
   },
   "file_extension": ".py",
   "mimetype": "text/x-python",
   "name": "python",
   "nbconvert_exporter": "python",
   "pygments_lexer": "ipython3",
   "version": "3.9.11"
  },
  "orig_nbformat": 4
 },
 "nbformat": 4,
 "nbformat_minor": 2
}
